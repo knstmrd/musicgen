{
 "cells": [
  {
   "cell_type": "code",
   "execution_count": 1,
   "metadata": {
    "collapsed": false
   },
   "outputs": [
    {
     "name": "stderr",
     "output_type": "stream",
     "text": [
      "/Users/georgeoblapenko/anaconda/lib/python3.5/site-packages/sklearn/cross_validation.py:44: DeprecationWarning: This module was deprecated in version 0.18 in favor of the model_selection module into which all the refactored classes and functions are moved. Also note that the interface of the new CV iterators are different from that of this module. This module will be removed in 0.20.\n",
      "  \"This module will be removed in 0.20.\", DeprecationWarning)\n"
     ]
    }
   ],
   "source": [
    "from matplotlib import pyplot as plt\n",
    "import numpy as np\n",
    "from scipy.io import wavfile\n",
    "import scipy\n",
    "from xgboost.sklearn import XGBRegressor\n",
    "from sklearn.linear_model import LinearRegression\n",
    "from sklearn.preprocessing import StandardScaler\n",
    "from sklearn.metrics import mean_squared_error"
   ]
  },
  {
   "cell_type": "code",
   "execution_count": 2,
   "metadata": {
    "collapsed": true
   },
   "outputs": [],
   "source": [
    "%matplotlib inline"
   ]
  },
  {
   "cell_type": "code",
   "execution_count": 60,
   "metadata": {
    "collapsed": false
   },
   "outputs": [],
   "source": [
    "rate, data = wavfile.read('01-18_Pulses.wav')"
   ]
  },
  {
   "cell_type": "code",
   "execution_count": 61,
   "metadata": {
    "collapsed": true
   },
   "outputs": [],
   "source": [
    "def write_stereo(a_l, a_r, s_r, name):\n",
    "    a_s = np.zeros([a_l.shape[0], 2], dtype=np.int16)\n",
    "    a_s[:, 0] = a_l\n",
    "    a_s[:, 1] = a_r\n",
    "    wavfile.write(name, s_r, a_s)"
   ]
  },
  {
   "cell_type": "code",
   "execution_count": 62,
   "metadata": {
    "collapsed": true
   },
   "outputs": [],
   "source": [
    "def write_mono(a_m, s_r, name):\n",
    "    write_stereo(a_m, a_m, s_r, name)"
   ]
  },
  {
   "cell_type": "code",
   "execution_count": 63,
   "metadata": {
    "collapsed": true
   },
   "outputs": [],
   "source": [
    "max_val = 30000  # if a sample's value is larger than this, we set it to max_val"
   ]
  },
  {
   "cell_type": "code",
   "execution_count": 64,
   "metadata": {
    "collapsed": false
   },
   "outputs": [
    {
     "data": {
      "text/plain": [
       "(21963, 3175)"
      ]
     },
     "execution_count": 64,
     "metadata": {},
     "output_type": "execute_result"
    }
   ],
   "source": [
    "np.max(np.abs(data[:,0])), np.max(np.abs(data[1:,0] - data[:-1,0]))"
   ]
  },
  {
   "cell_type": "code",
   "execution_count": 65,
   "metadata": {
    "collapsed": true
   },
   "outputs": [],
   "source": [
    "wav_data = data[:, 0]"
   ]
  },
  {
   "cell_type": "code",
   "execution_count": 88,
   "metadata": {
    "collapsed": false
   },
   "outputs": [],
   "source": [
    "offs = 3 * rate\n",
    "n_data = 5000\n",
    "prev_samples = 10000\n",
    "add_features = [0]\n",
    "\n",
    "prev_time_energy_amt = 0\n",
    "prev_time_energy_length = 500\n",
    "\n",
    "add_features.append(prev_time_energy_amt)\n",
    "\n",
    "start_sample = max(prev_samples, prev_time_energy_amt * prev_time_energy_length)"
   ]
  },
  {
   "cell_type": "code",
   "execution_count": 89,
   "metadata": {
    "collapsed": true
   },
   "outputs": [],
   "source": [
    "feature_arr = np.zeros([n_data, prev_samples + sum(add_features)])\n",
    "target_arr = np.zeros([n_data])"
   ]
  },
  {
   "cell_type": "code",
   "execution_count": 90,
   "metadata": {
    "collapsed": false
   },
   "outputs": [],
   "source": [
    "for i in range(n_data):\n",
    "    feature_arr[i, :prev_samples] = wav_data[offs + start_sample + i - prev_samples:offs + start_sample + i]\n",
    "    \n",
    "    for j in range(add_features[0]):\n",
    "        feature_arr[i, prev_samples+j] = np.sum(np.abs(wav_data[offs + start_sample\n",
    "                                                                + i - prev_time_energy_length*(j+1):\n",
    "                                                                offs + start_sample\n",
    "                                                                + i - prev_time_energy_length*j]))\n",
    "    \n",
    "    target_arr[i] = wav_data[offs + start_sample + i]"
   ]
  },
  {
   "cell_type": "code",
   "execution_count": 91,
   "metadata": {
    "collapsed": true
   },
   "outputs": [],
   "source": [
    "feat_scaler = StandardScaler()\n",
    "feature_arr = feat_scaler.fit_transform(feature_arr)\n",
    "t_mean, t_std = np.mean(target_arr), np.std(target_arr)\n",
    "target_arr = (target_arr - t_mean) / t_std\n",
    "max_val = (max_val - t_mean) / t_std"
   ]
  },
  {
   "cell_type": "code",
   "execution_count": 92,
   "metadata": {
    "collapsed": false
   },
   "outputs": [
    {
     "data": {
      "text/plain": [
       "LinearRegression(copy_X=True, fit_intercept=True, n_jobs=1, normalize=False)"
      ]
     },
     "execution_count": 92,
     "metadata": {},
     "output_type": "execute_result"
    }
   ],
   "source": [
    "# predictor = XGBRegressor()\n",
    "predictor = LinearRegression()\n",
    "predictor.fit(feature_arr, target_arr)"
   ]
  },
  {
   "cell_type": "code",
   "execution_count": 93,
   "metadata": {
    "collapsed": true
   },
   "outputs": [],
   "source": [
    "generate_size = 50000\n",
    "start_pos = start_sample + n_data  # we take a chunk of the original audio starting from this position to 'seed'\n",
    "min_seed_size = max(prev_samples, prev_time_energy_amt * prev_time_energy_length)\n",
    "new_audio = np.zeros(generate_size + min_seed_size)\n",
    "new_audio[:min_seed_size] = wav_data[offs + start_pos:offs + start_pos + min_seed_size]\n",
    "\n",
    "gen_feat_arr = np.zeros([1, feature_arr.shape[1]])"
   ]
  },
  {
   "cell_type": "code",
   "execution_count": 94,
   "metadata": {
    "collapsed": false
   },
   "outputs": [],
   "source": [
    "for i in range(generate_size):\n",
    "    gen_feat_arr[0, :prev_samples] = new_audio[min_seed_size + i-prev_samples:min_seed_size + i]\n",
    "    for j in range(add_features[0]):\n",
    "        gen_feat_arr[0, prev_samples+j] = np.sum(np.abs(new_audio[min_seed_size + i - prev_time_energy_length*(j+1):\n",
    "                                                                  min_seed_size + i - prev_time_energy_length*j]))\n",
    "    \n",
    "    new_sample = predictor.predict(feat_scaler.transform(gen_feat_arr))\n",
    "    if new_sample > max_val:\n",
    "        new_sample = max_val\n",
    "    elif new_sample < -max_val:\n",
    "        new_sample = -max_val\n",
    "\n",
    "    new_audio[min_seed_size + i] = new_sample * t_std + t_mean"
   ]
  },
  {
   "cell_type": "code",
   "execution_count": 95,
   "metadata": {
    "collapsed": false
   },
   "outputs": [
    {
     "data": {
      "text/plain": [
       "418517.09622704453"
      ]
     },
     "execution_count": 95,
     "metadata": {},
     "output_type": "execute_result"
    }
   ],
   "source": [
    "mean_squared_error(wav_data[start_pos + min_seed_size:start_pos + min_seed_size + generate_size],\n",
    "                   new_audio[min_seed_size:])"
   ]
  },
  {
   "cell_type": "markdown",
   "metadata": {},
   "source": [
    "on 50k samples:\n",
    "\n",
    "5k data, 5k len, 0 amt of 500 len energy 154224\n",
    "5k data, 5k len, 10 amt of 500 len energy 896409797"
   ]
  },
  {
   "cell_type": "code",
   "execution_count": 96,
   "metadata": {
    "collapsed": false
   },
   "outputs": [
    {
     "data": {
      "text/plain": [
       "[<matplotlib.lines.Line2D at 0x11c363f28>]"
      ]
     },
     "execution_count": 96,
     "metadata": {},
     "output_type": "execute_result"
    },
    {
     "data": {
      "image/png": "[encoded data removed]",
      "text/plain": [
       "<matplotlib.figure.Figure at 0x11c3442b0>"
      ]
     },
     "metadata": {},
     "output_type": "display_data"
    }
   ],
   "source": [
    "plt.plot(new_audio)"
   ]
  },
  {
   "cell_type": "code",
   "execution_count": 87,
   "metadata": {
    "collapsed": false
   },
   "outputs": [],
   "source": [
    "write_mono(new_audio, rate, 'Pulses-test.wav')"
   ]
  },
  {
   "cell_type": "code",
   "execution_count": null,
   "metadata": {
    "collapsed": true
   },
   "outputs": [],
   "source": []
  }
 ],
 "metadata": {
  "anaconda-cloud": {},
  "kernelspec": {
   "display_name": "Python [conda root]",
   "language": "python",
   "name": "conda-root-py"
  },
  "language_info": {
   "codemirror_mode": {
    "name": "ipython",
    "version": 3
   },
   "file_extension": ".py",
   "mimetype": "text/x-python",
   "name": "python",
   "nbconvert_exporter": "python",
   "pygments_lexer": "ipython3",
   "version": "3.5.2"
  }
 },
 "nbformat": 4,
 "nbformat_minor": 1
}
